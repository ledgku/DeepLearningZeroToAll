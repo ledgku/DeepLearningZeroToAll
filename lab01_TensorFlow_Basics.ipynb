{
  "nbformat": 4,
  "nbformat_minor": 0,
  "metadata": {
    "colab": {
      "name": "lab01-TensorFlow Basics.ipynb",
      "version": "0.3.2",
      "provenance": [],
      "collapsed_sections": []
    },
    "kernelspec": {
      "name": "python3",
      "display_name": "Python 3"
    }
  },
  "cells": [
    {
      "metadata": {
        "id": "9eb6u_SBl1EX",
        "colab_type": "code",
        "colab": {}
      },
      "cell_type": "code",
      "source": [
        "# 연산은 graph로 표현한다.\n",
        "# graph는 Session 내에서 실행된다.\n",
        "# 데이터는 tensor로 표현된다.\n",
        "# 변수는 여러 graph들이 작동할 때도 그 상태를 유지한다.\n",
        "# 작업(operation 또는 op)에서 데이터를 입출력 할 때 feed와 fetch를 사용할 수 있다.\n",
        "\n",
        "# Tensor는 정형화된 다차원 배열(a typed multi-dimensional array)이다. \n",
        "# Tensor는 파이썬에서 numpy 형식으로 나오고 C, C++에서는 TensorFlow::Tensor 형식으로 나온다.\n",
        "\n",
        "# 작업(operation 또는 op)은 0개 혹은 그 이상의 Tensor를 가질 수 있고 연산도 수행하며 0개 혹은 그 이상의 Tensor를 만들어 내기도 한다.\n",
        "\n",
        "import tensorflow as tf\n"
      ],
      "execution_count": 0,
      "outputs": []
    },
    {
      "metadata": {
        "id": "uBOTuLMDunmT",
        "colab_type": "code",
        "colab": {
          "base_uri": "https://localhost:8080/",
          "height": 136
        },
        "outputId": "f0f94020-6b7b-4f78-83c5-02044f47f59c"
      },
      "cell_type": "code",
      "source": [
        "# session을 사용한 후에는 close 해주어야 한다.\n",
        "with tf.Session() as sess:\n",
        "  # graph 만들기 (Building the graph)\n",
        "\n",
        "  # 3개의 노드 생성\n",
        "  # 2개는 상수(constant) 작업(op), 1개는 덧셈(add) 작업\n",
        "  node1 = tf.constant(3.0, tf.float32)\n",
        "  node2 = tf.constant(4.0) # also tf.float32 implicitly\n",
        "  node3 = tf.add(node1, node2)\n",
        "\n",
        "  print(\"node1:\", node1)\n",
        "  print(\"node2:\", node2)\n",
        "  print(\"node3:\", node3)\n",
        "\n",
        "  # default graph 실행\n",
        "  print(\"sess.run(node1, node2): \", sess.run([node1, node2]))\n",
        "  print(\"sess.run(node3): \", sess.run(node3))\n",
        "  \n",
        "  a = tf.placeholder(tf.float32)\n",
        "  b = tf.placeholder(tf.float32)\n",
        "  adder_node = tf.add(a, b) # + provides a shortcut for tf.add(a,b)\n",
        "\n",
        "  print(sess.run(adder_node, feed_dict={a: 3, b: 4.5}))\n",
        "  print(sess.run(adder_node, feed_dict={a:[1,3], b: [2,4]}))"
      ],
      "execution_count": 15,
      "outputs": [
        {
          "output_type": "stream",
          "text": [
            "node1: Tensor(\"Const_14:0\", shape=(), dtype=float32)\n",
            "node2: Tensor(\"Const_15:0\", shape=(), dtype=float32)\n",
            "node3: Tensor(\"Add_9:0\", shape=(), dtype=float32)\n",
            "sess.run(node1, node2):  [3.0, 4.0]\n",
            "sess.run(node3):  7.0\n",
            "7.5\n",
            "[3. 7.]\n"
          ],
          "name": "stdout"
        }
      ]
    },
    {
      "metadata": {
        "id": "8QytEkNZ1Vx4",
        "colab_type": "text"
      },
      "cell_type": "markdown",
      "source": [
        "## Rank\n",
        "\n",
        "TensorFlow 시스템에서, tensor는 *rank*라는 차원 단위로 표현된다.\n",
        "Tensor rank는 행렬의 rank와 다르다.\n",
        "Tensor rank(*order*, *degree*, *-n_dimension* 으로도 언급됨)는 tensor의 차원수다.\n",
        "예를 들어, 아래 tensor(Python 리스트로 정의)의 rank는 2다.\n",
        "\n",
        "    t = [[1, 2, 3], [4, 5, 6], [7, 8, 9]]\n",
        "\n",
        "rank 2인 tensor는 행렬, rank 1인 tensor는 벡터로 생각할 수 있다. \n",
        "rank 2인 tensor는 `t[i, j]` 형식으로 원소에 접근할 수 있다.\n",
        "rank 3인 tensor는 `t[i, j, k]` 형식으로 원소를 지정할 수 있다.\n",
        "\n",
        "Rank | Math entity | Python example\n",
        "--- | --- | ---\n",
        "0 | Scalar (magnitude only) | `s = 483`\n",
        "1 | Vector (magnitude and direction) | `v = [1.1, 2.2, 3.3]`\n",
        "2 | Matrix (table of numbers) | `m = [[1, 2, 3], [4, 5, 6], [7, 8, 9]]`\n",
        "3 | 3-Tensor (cube of numbers) | `t = [[[2], [4], [6]], [[8], [10], [12]], [[14], [16], [18]]]`\n",
        "n | n-Tensor (you get the idea) | `....`\n",
        "\n",
        "## Shape\n",
        "\n",
        "TensorFlow 문서는 tensor 차원을 표현할 때 세 가지 기호를 사용한다. rank, shape, 차원수.\n",
        "아래 표는 그 세 가지의 관계를 보여준다:\n",
        "\n",
        "Rank | Shape | Dimension number | Example\n",
        "--- | --- | --- | ---\n",
        "0 | [] | 0-D | A 0-D tensor.  A scalar.\n",
        "1 | [D0] | 1-D | A 1-D tensor with shape [5].\n",
        "2 | [D0, D1] | 2-D | A 2-D tensor with shape [3, 4].\n",
        "3 | [D0, D1, D2] | 3-D | A 3-D tensor with shape [1, 4, 3].\n",
        "n | [D0, D1, ... Dn-1] | n-D | A tensor with shape [D0, D1, ... Dn-1].\n",
        "\n",
        "Shape는 Python 리스트 / 정수형 튜플 또는\n",
        "[`TensorShape` class](../api_docs/python/framework.md#TensorShape)로 표현 할 수 있다. \n",
        "\n",
        "## Data types\n",
        "\n",
        "Tensor는 차원 말고도 데이터 타입도 갖는다.\n",
        "아래의 데이터 타입을 tensor에 지정할 수 있다.\n",
        "\n",
        "Data type | Python type | Description\n",
        "--- | --- | ---\n",
        "`DT_FLOAT` | `tf.float32` | 32 비트 부동 소수.\n",
        "`DT_DOUBLE` | `tf.float64` | 64 비트 부동 소수.\n",
        "`DT_INT8` | `tf.int8` | 8 비트 부호 있는 정수.\n",
        "`DT_INT16` | `tf.int16` | 16 비트 부호 있는 정수.\n",
        "`DT_INT32` | `tf.int32` | 32 비트 부호 있는 정수.\n",
        "`DT_INT64` | `tf.int64` | 64 비트 부호 있는 정수.\n",
        "`DT_UINT8` | `tf.uint8` | 8 비트 부호 없는 정수.\n",
        "`DT_STRING` | `tf.string` | 가변 길이 바이트 배열. Tensor의 각 원소는 바이트 배열.\n",
        "`DT_BOOL` | `tf.bool` | 불리언.\n",
        "`DT_COMPLEX64` | `tf.complex64` | 2개의 32 비트 부동 소수로 만든 복소수 : 실수부 + 허수부\n",
        "`DT_COMPLEX128` | `tf.complex128` | 2개의 64 비트 부동 소수로 만든 복소수 : 실수부 + 허수부\n",
        "`DT_QINT8` | `tf.qint8` | 8 비트 부호 있는 정수로 quantized Ops에서 사용.\n",
        "`DT_QINT32` | `tf.qint32` | 32 비트 부호 있는 정수로 quantized Ops에서 사용.\n",
        "`DT_QUINT8` | `tf.quint8` | 8 비트 부호 없는 정수로 quantized Ops에서 사용."
      ]
    },
    {
      "metadata": {
        "id": "SFzTHmo12GIs",
        "colab_type": "code",
        "colab": {}
      },
      "cell_type": "code",
      "source": [
        "# Tensor의 차원(rank)는 행렬의 차원(rank)와 다르다.\n",
        "\n",
        "3 # a rank 0 tensor; this is a acalar with shape []\n",
        "[1., 2., 3.] # a rank 1 tensor; this is vector with shape [3]\n",
        "[[1., 2., 3.], [4., 5., 6.]] # a rank 2 tensor; a matrix with shape [2, 3]\n",
        "[[[1., 2., 3.]], [[7., 8., 9.]]] # a rank 3 tensor with shape [2, 1, 3]"
      ],
      "execution_count": 0,
      "outputs": []
    }
  ]
}